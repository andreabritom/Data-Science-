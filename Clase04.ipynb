{
 "cells": [
  {
   "cell_type": "code",
   "execution_count": null,
   "metadata": {},
   "outputs": [],
   "source": [
    "#Clase 04"
   ]
  },
  {
   "cell_type": "code",
   "execution_count": 2,
   "metadata": {},
   "outputs": [],
   "source": [
    "#Ejemplo 1\n",
    "import pandas as pd"
   ]
  },
  {
   "cell_type": "code",
   "execution_count": 4,
   "metadata": {},
   "outputs": [],
   "source": [
    "modelos = ['A4 3.0 Quattro 4dr manual',\n",
    " 'A4 3.0 Quattro 4dr auto',\n",
    " 'A6 3.0 4dr',\n",
    " 'A6 3.0 Quattro 4dr',\n",
    " 'A4 3.0 convertible 2dr']\n",
    "peso = [3583, 3627, 3561, 3880, 3814]\n",
    "precios = ['$33,430', '$34,480', '$36,640', '$39,640', '$42,490']"
   ]
  },
  {
   "cell_type": "code",
   "execution_count": 9,
   "metadata": {},
   "outputs": [
    {
     "data": {
      "text/plain": [
       "A4 3.0 Quattro 4dr manual    $33,430\n",
       "A4 3.0 Quattro 4dr auto      $34,480\n",
       "A6 3.0 4dr                   $36,640\n",
       "A6 3.0 Quattro 4dr           $39,640\n",
       "A4 3.0 convertible 2dr       $42,490\n",
       "dtype: object"
      ]
     },
     "execution_count": 9,
     "metadata": {},
     "output_type": "execute_result"
    }
   ],
   "source": [
    "#Construyo mis series\n",
    "Autos_precio = pd.Series(precios,index=modelos) \n",
    "\n",
    "Autos_precio"
   ]
  },
  {
   "cell_type": "code",
   "execution_count": 10,
   "metadata": {},
   "outputs": [
    {
     "data": {
      "text/plain": [
       "A4 3.0 Quattro 4dr manual    3583\n",
       "A4 3.0 Quattro 4dr auto      3627\n",
       "A6 3.0 4dr                   3561\n",
       "A6 3.0 Quattro 4dr           3880\n",
       "A4 3.0 convertible 2dr       3814\n",
       "dtype: int64"
      ]
     },
     "execution_count": 10,
     "metadata": {},
     "output_type": "execute_result"
    }
   ],
   "source": [
    "#Construyo mis series\n",
    "Autos_peso = pd.Series(peso,index=modelos)\n",
    "\n",
    "Autos_peso"
   ]
  },
  {
   "cell_type": "code",
   "execution_count": 11,
   "metadata": {},
   "outputs": [
    {
     "data": {
      "text/plain": [
       "{'Peso': A4 3.0 Quattro 4dr manual    3583\n",
       " A4 3.0 Quattro 4dr auto      3627\n",
       " A6 3.0 4dr                   3561\n",
       " A6 3.0 Quattro 4dr           3880\n",
       " A4 3.0 convertible 2dr       3814\n",
       " dtype: int64,\n",
       " 'Precio': A4 3.0 Quattro 4dr manual    $33,430\n",
       " A4 3.0 Quattro 4dr auto      $34,480\n",
       " A6 3.0 4dr                   $36,640\n",
       " A6 3.0 Quattro 4dr           $39,640\n",
       " A4 3.0 convertible 2dr       $42,490\n",
       " dtype: object}"
      ]
     },
     "execution_count": 11,
     "metadata": {},
     "output_type": "execute_result"
    }
   ],
   "source": [
    "#Construyo mi diccionario\n",
    "{'Peso':Autos_peso,'Precio':Autos_precio}"
   ]
  },
  {
   "cell_type": "code",
   "execution_count": 12,
   "metadata": {},
   "outputs": [
    {
     "data": {
      "text/html": [
       "<div>\n",
       "<style scoped>\n",
       "    .dataframe tbody tr th:only-of-type {\n",
       "        vertical-align: middle;\n",
       "    }\n",
       "\n",
       "    .dataframe tbody tr th {\n",
       "        vertical-align: top;\n",
       "    }\n",
       "\n",
       "    .dataframe thead th {\n",
       "        text-align: right;\n",
       "    }\n",
       "</style>\n",
       "<table border=\"1\" class=\"dataframe\">\n",
       "  <thead>\n",
       "    <tr style=\"text-align: right;\">\n",
       "      <th></th>\n",
       "      <th>Peso</th>\n",
       "      <th>Precio</th>\n",
       "    </tr>\n",
       "  </thead>\n",
       "  <tbody>\n",
       "    <tr>\n",
       "      <th>A4 3.0 Quattro 4dr manual</th>\n",
       "      <td>3583</td>\n",
       "      <td>$33,430</td>\n",
       "    </tr>\n",
       "    <tr>\n",
       "      <th>A4 3.0 Quattro 4dr auto</th>\n",
       "      <td>3627</td>\n",
       "      <td>$34,480</td>\n",
       "    </tr>\n",
       "    <tr>\n",
       "      <th>A6 3.0 4dr</th>\n",
       "      <td>3561</td>\n",
       "      <td>$36,640</td>\n",
       "    </tr>\n",
       "    <tr>\n",
       "      <th>A6 3.0 Quattro 4dr</th>\n",
       "      <td>3880</td>\n",
       "      <td>$39,640</td>\n",
       "    </tr>\n",
       "    <tr>\n",
       "      <th>A4 3.0 convertible 2dr</th>\n",
       "      <td>3814</td>\n",
       "      <td>$42,490</td>\n",
       "    </tr>\n",
       "  </tbody>\n",
       "</table>\n",
       "</div>"
      ],
      "text/plain": [
       "                           Peso   Precio\n",
       "A4 3.0 Quattro 4dr manual  3583  $33,430\n",
       "A4 3.0 Quattro 4dr auto    3627  $34,480\n",
       "A6 3.0 4dr                 3561  $36,640\n",
       "A6 3.0 Quattro 4dr         3880  $39,640\n",
       "A4 3.0 convertible 2dr     3814  $42,490"
      ]
     },
     "execution_count": 12,
     "metadata": {},
     "output_type": "execute_result"
    }
   ],
   "source": [
    "#Construyo un Data Frame\n",
    "Autos = pd.DataFrame({'Peso':Autos_peso,'Precio':Autos_precio})\n",
    "\n",
    "Autos\n"
   ]
  },
  {
   "cell_type": "code",
   "execution_count": 17,
   "metadata": {},
   "outputs": [
    {
     "data": {
      "text/plain": [
       "A4 3.0 Quattro 4dr manual    False\n",
       "A4 3.0 Quattro 4dr auto       True\n",
       "A6 3.0 4dr                   False\n",
       "A6 3.0 Quattro 4dr            True\n",
       "A4 3.0 convertible 2dr        True\n",
       "Name: Peso, dtype: bool"
      ]
     },
     "execution_count": 17,
     "metadata": {},
     "output_type": "execute_result"
    }
   ],
   "source": [
    "Autos.Peso >=3600"
   ]
  },
  {
   "cell_type": "code",
   "execution_count": 18,
   "metadata": {},
   "outputs": [
    {
     "data": {
      "text/html": [
       "<div>\n",
       "<style scoped>\n",
       "    .dataframe tbody tr th:only-of-type {\n",
       "        vertical-align: middle;\n",
       "    }\n",
       "\n",
       "    .dataframe tbody tr th {\n",
       "        vertical-align: top;\n",
       "    }\n",
       "\n",
       "    .dataframe thead th {\n",
       "        text-align: right;\n",
       "    }\n",
       "</style>\n",
       "<table border=\"1\" class=\"dataframe\">\n",
       "  <thead>\n",
       "    <tr style=\"text-align: right;\">\n",
       "      <th></th>\n",
       "      <th>Peso</th>\n",
       "      <th>Precio</th>\n",
       "    </tr>\n",
       "  </thead>\n",
       "  <tbody>\n",
       "    <tr>\n",
       "      <th>A4 3.0 Quattro 4dr auto</th>\n",
       "      <td>3627</td>\n",
       "      <td>$34,480</td>\n",
       "    </tr>\n",
       "    <tr>\n",
       "      <th>A6 3.0 Quattro 4dr</th>\n",
       "      <td>3880</td>\n",
       "      <td>$39,640</td>\n",
       "    </tr>\n",
       "    <tr>\n",
       "      <th>A4 3.0 convertible 2dr</th>\n",
       "      <td>3814</td>\n",
       "      <td>$42,490</td>\n",
       "    </tr>\n",
       "  </tbody>\n",
       "</table>\n",
       "</div>"
      ],
      "text/plain": [
       "                         Peso   Precio\n",
       "A4 3.0 Quattro 4dr auto  3627  $34,480\n",
       "A6 3.0 Quattro 4dr       3880  $39,640\n",
       "A4 3.0 convertible 2dr   3814  $42,490"
      ]
     },
     "execution_count": 18,
     "metadata": {},
     "output_type": "execute_result"
    }
   ],
   "source": [
    "Autos.loc[Autos.Peso>=3600]"
   ]
  },
  {
   "cell_type": "code",
   "execution_count": 19,
   "metadata": {},
   "outputs": [
    {
     "data": {
      "text/html": [
       "<div>\n",
       "<style scoped>\n",
       "    .dataframe tbody tr th:only-of-type {\n",
       "        vertical-align: middle;\n",
       "    }\n",
       "\n",
       "    .dataframe tbody tr th {\n",
       "        vertical-align: top;\n",
       "    }\n",
       "\n",
       "    .dataframe thead th {\n",
       "        text-align: right;\n",
       "    }\n",
       "</style>\n",
       "<table border=\"1\" class=\"dataframe\">\n",
       "  <thead>\n",
       "    <tr style=\"text-align: right;\">\n",
       "      <th></th>\n",
       "      <th>Peso</th>\n",
       "      <th>Precio</th>\n",
       "    </tr>\n",
       "  </thead>\n",
       "  <tbody>\n",
       "    <tr>\n",
       "      <th>A4 3.0 Quattro 4dr auto</th>\n",
       "      <td>3627</td>\n",
       "      <td>$34,480</td>\n",
       "    </tr>\n",
       "  </tbody>\n",
       "</table>\n",
       "</div>"
      ],
      "text/plain": [
       "                         Peso   Precio\n",
       "A4 3.0 Quattro 4dr auto  3627  $34,480"
      ]
     },
     "execution_count": 19,
     "metadata": {},
     "output_type": "execute_result"
    }
   ],
   "source": [
    "Autos.loc[(Autos.Peso>=3600) & (Autos.Peso<=3800)]"
   ]
  },
  {
   "cell_type": "code",
   "execution_count": 13,
   "metadata": {},
   "outputs": [],
   "source": [
    "#Ejemplo 2\n",
    "import numpy as np"
   ]
  },
  {
   "cell_type": "code",
   "execution_count": 14,
   "metadata": {},
   "outputs": [
    {
     "data": {
      "text/html": [
       "<div>\n",
       "<style scoped>\n",
       "    .dataframe tbody tr th:only-of-type {\n",
       "        vertical-align: middle;\n",
       "    }\n",
       "\n",
       "    .dataframe tbody tr th {\n",
       "        vertical-align: top;\n",
       "    }\n",
       "\n",
       "    .dataframe thead th {\n",
       "        text-align: right;\n",
       "    }\n",
       "</style>\n",
       "<table border=\"1\" class=\"dataframe\">\n",
       "  <thead>\n",
       "    <tr style=\"text-align: right;\">\n",
       "      <th></th>\n",
       "      <th>1</th>\n",
       "      <th>2</th>\n",
       "      <th>3</th>\n",
       "      <th>4</th>\n",
       "      <th>5</th>\n",
       "      <th>6</th>\n",
       "      <th>7</th>\n",
       "      <th>8</th>\n",
       "    </tr>\n",
       "  </thead>\n",
       "  <tbody>\n",
       "    <tr>\n",
       "      <th>A</th>\n",
       "      <td>1</td>\n",
       "      <td>2</td>\n",
       "      <td>3</td>\n",
       "      <td>4</td>\n",
       "      <td>5</td>\n",
       "      <td>6</td>\n",
       "      <td>7</td>\n",
       "      <td>8</td>\n",
       "    </tr>\n",
       "    <tr>\n",
       "      <th>B</th>\n",
       "      <td>9</td>\n",
       "      <td>10</td>\n",
       "      <td>11</td>\n",
       "      <td>12</td>\n",
       "      <td>13</td>\n",
       "      <td>14</td>\n",
       "      <td>15</td>\n",
       "      <td>16</td>\n",
       "    </tr>\n",
       "    <tr>\n",
       "      <th>C</th>\n",
       "      <td>17</td>\n",
       "      <td>18</td>\n",
       "      <td>19</td>\n",
       "      <td>20</td>\n",
       "      <td>21</td>\n",
       "      <td>22</td>\n",
       "      <td>23</td>\n",
       "      <td>24</td>\n",
       "    </tr>\n",
       "    <tr>\n",
       "      <th>D</th>\n",
       "      <td>25</td>\n",
       "      <td>26</td>\n",
       "      <td>27</td>\n",
       "      <td>28</td>\n",
       "      <td>29</td>\n",
       "      <td>30</td>\n",
       "      <td>31</td>\n",
       "      <td>32</td>\n",
       "    </tr>\n",
       "    <tr>\n",
       "      <th>E</th>\n",
       "      <td>33</td>\n",
       "      <td>34</td>\n",
       "      <td>35</td>\n",
       "      <td>36</td>\n",
       "      <td>37</td>\n",
       "      <td>38</td>\n",
       "      <td>39</td>\n",
       "      <td>40</td>\n",
       "    </tr>\n",
       "    <tr>\n",
       "      <th>F</th>\n",
       "      <td>41</td>\n",
       "      <td>42</td>\n",
       "      <td>43</td>\n",
       "      <td>44</td>\n",
       "      <td>45</td>\n",
       "      <td>46</td>\n",
       "      <td>47</td>\n",
       "      <td>48</td>\n",
       "    </tr>\n",
       "    <tr>\n",
       "      <th>G</th>\n",
       "      <td>49</td>\n",
       "      <td>50</td>\n",
       "      <td>51</td>\n",
       "      <td>52</td>\n",
       "      <td>53</td>\n",
       "      <td>54</td>\n",
       "      <td>55</td>\n",
       "      <td>56</td>\n",
       "    </tr>\n",
       "    <tr>\n",
       "      <th>H</th>\n",
       "      <td>57</td>\n",
       "      <td>58</td>\n",
       "      <td>59</td>\n",
       "      <td>60</td>\n",
       "      <td>61</td>\n",
       "      <td>62</td>\n",
       "      <td>63</td>\n",
       "      <td>64</td>\n",
       "    </tr>\n",
       "  </tbody>\n",
       "</table>\n",
       "</div>"
      ],
      "text/plain": [
       "    1   2   3   4   5   6   7   8\n",
       "A   1   2   3   4   5   6   7   8\n",
       "B   9  10  11  12  13  14  15  16\n",
       "C  17  18  19  20  21  22  23  24\n",
       "D  25  26  27  28  29  30  31  32\n",
       "E  33  34  35  36  37  38  39  40\n",
       "F  41  42  43  44  45  46  47  48\n",
       "G  49  50  51  52  53  54  55  56\n",
       "H  57  58  59  60  61  62  63  64"
      ]
     },
     "execution_count": 14,
     "metadata": {},
     "output_type": "execute_result"
    }
   ],
   "source": [
    "Ajedrez_64 = np.arange(1,65).reshape(8,8)\n",
    "Ajedrez_df = pd.DataFrame(\n",
    "Ajedrez_64,\n",
    "columns=range(1,9),\n",
    "index=['A','B','C','D','E','F','G','H']\n",
    ") \n",
    "Ajedrez_df\n"
   ]
  },
  {
   "cell_type": "code",
   "execution_count": null,
   "metadata": {},
   "outputs": [],
   "source": []
  }
 ],
 "metadata": {
  "kernelspec": {
   "display_name": "Python 3",
   "language": "python",
   "name": "python3"
  },
  "language_info": {
   "codemirror_mode": {
    "name": "ipython",
    "version": 3
   },
   "file_extension": ".py",
   "mimetype": "text/x-python",
   "name": "python",
   "nbconvert_exporter": "python",
   "pygments_lexer": "ipython3",
   "version": "3.7.9"
  },
  "orig_nbformat": 4
 },
 "nbformat": 4,
 "nbformat_minor": 2
}
